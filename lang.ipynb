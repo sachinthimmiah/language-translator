{
 "cells": [
  {
   "cell_type": "code",
   "execution_count": 2,
   "id": "49d225ce-27c7-4d6b-90a0-0a9ec6fcbe2e",
   "metadata": {},
   "outputs": [],
   "source": [
    "from tkinter import *\n",
    "\n",
    "from tkinter.ttk import Combobox \n",
    "from googletrans import Translator, LANGUAGES\n",
    " "
   ]
  },
  {
   "cell_type": "code",
   "execution_count": 3,
   "id": "63fc9e31-a394-48ad-af62-e27005f85cd4",
   "metadata": {},
   "outputs": [],
   "source": [
    "root=Tk()\n",
    "root.geometry('1100x320')\n",
    "root.resizable(0,0)\n",
    "root.iconbitmap('etc .ico')\n",
    "root['bg']='red'\n",
    "\n",
    "root.title('Language translator')\n",
    "Label(root,text=\"Language Translator\",font=\"Arial 20 bold\").pack()\n",
    "Label(root,text=\"Enter Text\",font='arial 13 bold',bg='white smoke').place(x=165,y=90)\n",
    "\n"
   ]
  },
  {
   "cell_type": "code",
   "execution_count": 12,
   "id": "8ce22f0b-fe1b-4b1f-abaa-0284e9a648ce",
   "metadata": {},
   "outputs": [
    {
     "data": {
      "text/plain": [
       "''"
      ]
     },
     "execution_count": 12,
     "metadata": {},
     "output_type": "execute_result"
    }
   ],
   "source": [
    "Input_text= Entry(root, width=60)\n",
    "Input_text.place(x=35, y = 135)\n",
    "Input_text.get()\n",
    " "
   ]
  },
  {
   "cell_type": "code",
   "execution_count": 4,
   "id": "ef5e56b6-c0a8-404a-9c77-d7b80422214f",
   "metadata": {},
   "outputs": [],
   "source": [
    "Label(root,text =\"Output\",font ='arial 13 bold ',bg='white smoke').place (x=820 ,y=90)\n",
    "Output_text =Text(root,font='arial 10',height=5,wrap =WORD,padx=5,pady=5 ,width=50)\n",
    "Output_text.place(x=670,y=130)\n",
    "\n",
    "language=list(LANGUAGES.values())\n",
    "dest_lang=Combobox(root, values=language,width=25)\n",
    "dest_lang.place(x=130,y=180)\n",
    "dest_lang.set(\"Choose the Language\")\n",
    "\n",
    "\n",
    "def Translate():\n",
    "    translator=Translator()\n",
    "    translated=translator.translate(text=Input_text.get(),dest=dest_lang.get())\n",
    "    Output_text.delete(1.0,END)\n",
    "    Output_text.insert(END,translated.text)\n",
    "    \n",
    "trans_btn=Button(root,text='Translate',font='arial 12 bold',pady=5, command=Translate,bg='blue',activebackground='orange')\n",
    "trans_btn.place(x=470,y=180)\n",
    "root.mainloop()"
   ]
  },
  {
   "cell_type": "code",
   "execution_count": null,
   "id": "d22ad680",
   "metadata": {},
   "outputs": [],
   "source": []
  },
  {
   "cell_type": "code",
   "execution_count": null,
   "id": "e375f507",
   "metadata": {},
   "outputs": [],
   "source": []
  },
  {
   "cell_type": "code",
   "execution_count": null,
   "id": "d589b564",
   "metadata": {},
   "outputs": [],
   "source": []
  },
  {
   "cell_type": "code",
   "execution_count": null,
   "id": "88777b27",
   "metadata": {},
   "outputs": [],
   "source": []
  },
  {
   "cell_type": "code",
   "execution_count": null,
   "id": "9fd93416",
   "metadata": {},
   "outputs": [],
   "source": []
  }
 ],
 "metadata": {
  "kernelspec": {
   "display_name": "Python 3 (ipykernel)",
   "language": "python",
   "name": "python3"
  },
  "language_info": {
   "codemirror_mode": {
    "name": "ipython",
    "version": 3
   },
   "file_extension": ".py",
   "mimetype": "text/x-python",
   "name": "python",
   "nbconvert_exporter": "python",
   "pygments_lexer": "ipython3",
   "version": "3.10.8"
  }
 },
 "nbformat": 4,
 "nbformat_minor": 5
}
